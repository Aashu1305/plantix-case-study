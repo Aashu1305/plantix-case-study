{
 "cells": [
  {
   "cell_type": "code",
   "execution_count": 1,
   "id": "experimental-poetry",
   "metadata": {},
   "outputs": [],
   "source": [
    "import pandas as pd\n",
    "import numpy as np\n",
    "import seaborn as sns\n",
    "get_ipython().run_line_magic('matplotlib', 'inline')\n",
    "import matplotlib.pyplot as plt \n",
    "import warnings\n",
    "warnings.filterwarnings('ignore')\n"
   ]
  },
  {
   "cell_type": "code",
   "execution_count": 2,
   "id": "acting-company",
   "metadata": {},
   "outputs": [],
   "source": [
    "df1 = pd.read_csv(\"sales_orders.csv\")\n",
    "df2 = pd.read_csv(\"sales_orders_items.csv\")\n",
    "df3 = pd.read_csv(\"login_logs.csv\")"
   ]
  },
  {
   "cell_type": "code",
   "execution_count": 3,
   "id": "hourly-being",
   "metadata": {},
   "outputs": [
    {
     "name": "stdout",
     "output_type": "stream",
     "text": [
      "<class 'pandas.core.frame.DataFrame'>\n",
      "RangeIndex: 13630 entries, 0 to 13629\n",
      "Data columns (total 5 columns):\n",
      " #   Column              Non-Null Count  Dtype \n",
      "---  ------              --------------  ----- \n",
      " 0   order_id            13630 non-null  int64 \n",
      " 1   fk_buyer_id         13630 non-null  int64 \n",
      " 2   fk_depot_id         13630 non-null  int64 \n",
      " 3   sales_order_status  13630 non-null  object\n",
      " 4   creation_time       13630 non-null  object\n",
      "dtypes: int64(3), object(2)\n",
      "memory usage: 532.5+ KB\n"
     ]
    }
   ],
   "source": [
    "df1.info()"
   ]
  },
  {
   "cell_type": "code",
   "execution_count": 4,
   "id": "cognitive-continuity",
   "metadata": {},
   "outputs": [
    {
     "data": {
      "text/html": [
       "<div>\n",
       "<style scoped>\n",
       "    .dataframe tbody tr th:only-of-type {\n",
       "        vertical-align: middle;\n",
       "    }\n",
       "\n",
       "    .dataframe tbody tr th {\n",
       "        vertical-align: top;\n",
       "    }\n",
       "\n",
       "    .dataframe thead th {\n",
       "        text-align: right;\n",
       "    }\n",
       "</style>\n",
       "<table border=\"1\" class=\"dataframe\">\n",
       "  <thead>\n",
       "    <tr style=\"text-align: right;\">\n",
       "      <th></th>\n",
       "      <th>order_id</th>\n",
       "      <th>fk_buyer_id</th>\n",
       "      <th>fk_depot_id</th>\n",
       "      <th>sales_order_status</th>\n",
       "      <th>creation_time</th>\n",
       "    </tr>\n",
       "  </thead>\n",
       "  <tbody>\n",
       "    <tr>\n",
       "      <th>0</th>\n",
       "      <td>119874</td>\n",
       "      <td>82228</td>\n",
       "      <td>5</td>\n",
       "      <td>Rejected</td>\n",
       "      <td>2021-07-01 00:35:28.0</td>\n",
       "    </tr>\n",
       "    <tr>\n",
       "      <th>1</th>\n",
       "      <td>119877</td>\n",
       "      <td>40476</td>\n",
       "      <td>1</td>\n",
       "      <td>Rejected</td>\n",
       "      <td>2021-07-01 02:02:43.0</td>\n",
       "    </tr>\n",
       "  </tbody>\n",
       "</table>\n",
       "</div>"
      ],
      "text/plain": [
       "   order_id  fk_buyer_id  fk_depot_id sales_order_status  \\\n",
       "0    119874        82228            5           Rejected   \n",
       "1    119877        40476            1           Rejected   \n",
       "\n",
       "           creation_time  \n",
       "0  2021-07-01 00:35:28.0  \n",
       "1  2021-07-01 02:02:43.0  "
      ]
     },
     "execution_count": 4,
     "metadata": {},
     "output_type": "execute_result"
    }
   ],
   "source": [
    "df1.head(2)"
   ]
  },
  {
   "cell_type": "code",
   "execution_count": 5,
   "id": "worldwide-pioneer",
   "metadata": {},
   "outputs": [],
   "source": [
    "df1[\"creation date\"] = pd.to_datetime(df1[\"creation_time\"])"
   ]
  },
  {
   "cell_type": "code",
   "execution_count": 6,
   "id": "floppy-region",
   "metadata": {},
   "outputs": [],
   "source": [
    "df1[\"creation date\"] = df1[\"creation date\"].dt.date"
   ]
  },
  {
   "cell_type": "code",
   "execution_count": 7,
   "id": "thirty-veteran",
   "metadata": {},
   "outputs": [],
   "source": [
    "df1[\"creation date\"] = pd.to_datetime(df1[\"creation date\"])"
   ]
  },
  {
   "cell_type": "code",
   "execution_count": 8,
   "id": "directed-causing",
   "metadata": {},
   "outputs": [],
   "source": [
    "df1[\"year\"] = df1[\"creation date\"].dt.year"
   ]
  },
  {
   "cell_type": "code",
   "execution_count": 9,
   "id": "express-nutrition",
   "metadata": {},
   "outputs": [],
   "source": [
    "df1[\"creation date\"] = pd.to_datetime(df1[\"creation date\"])"
   ]
  },
  {
   "cell_type": "code",
   "execution_count": 10,
   "id": "formed-uncertainty",
   "metadata": {},
   "outputs": [],
   "source": [
    "df1[\"creation time\"] = pd.to_datetime(df1[\"creation_time\"])"
   ]
  },
  {
   "cell_type": "code",
   "execution_count": 11,
   "id": "endless-flight",
   "metadata": {},
   "outputs": [],
   "source": [
    "df1.drop(columns = [\"creation_time\"],inplace=True)"
   ]
  },
  {
   "cell_type": "code",
   "execution_count": 12,
   "id": "prescribed-advice",
   "metadata": {},
   "outputs": [
    {
     "data": {
      "text/html": [
       "<div>\n",
       "<style scoped>\n",
       "    .dataframe tbody tr th:only-of-type {\n",
       "        vertical-align: middle;\n",
       "    }\n",
       "\n",
       "    .dataframe tbody tr th {\n",
       "        vertical-align: top;\n",
       "    }\n",
       "\n",
       "    .dataframe thead th {\n",
       "        text-align: right;\n",
       "    }\n",
       "</style>\n",
       "<table border=\"1\" class=\"dataframe\">\n",
       "  <thead>\n",
       "    <tr style=\"text-align: right;\">\n",
       "      <th></th>\n",
       "      <th>order_id</th>\n",
       "      <th>fk_buyer_id</th>\n",
       "      <th>fk_depot_id</th>\n",
       "      <th>sales_order_status</th>\n",
       "      <th>creation date</th>\n",
       "      <th>year</th>\n",
       "      <th>creation time</th>\n",
       "    </tr>\n",
       "  </thead>\n",
       "  <tbody>\n",
       "    <tr>\n",
       "      <th>0</th>\n",
       "      <td>119874</td>\n",
       "      <td>82228</td>\n",
       "      <td>5</td>\n",
       "      <td>Rejected</td>\n",
       "      <td>2021-07-01</td>\n",
       "      <td>2021</td>\n",
       "      <td>2021-07-01 00:35:28</td>\n",
       "    </tr>\n",
       "    <tr>\n",
       "      <th>1</th>\n",
       "      <td>119877</td>\n",
       "      <td>40476</td>\n",
       "      <td>1</td>\n",
       "      <td>Rejected</td>\n",
       "      <td>2021-07-01</td>\n",
       "      <td>2021</td>\n",
       "      <td>2021-07-01 02:02:43</td>\n",
       "    </tr>\n",
       "  </tbody>\n",
       "</table>\n",
       "</div>"
      ],
      "text/plain": [
       "   order_id  fk_buyer_id  fk_depot_id sales_order_status creation date  year  \\\n",
       "0    119874        82228            5           Rejected    2021-07-01  2021   \n",
       "1    119877        40476            1           Rejected    2021-07-01  2021   \n",
       "\n",
       "        creation time  \n",
       "0 2021-07-01 00:35:28  \n",
       "1 2021-07-01 02:02:43  "
      ]
     },
     "execution_count": 12,
     "metadata": {},
     "output_type": "execute_result"
    }
   ],
   "source": [
    "df1.head(2)"
   ]
  },
  {
   "cell_type": "code",
   "execution_count": null,
   "id": "gross-mauritius",
   "metadata": {},
   "outputs": [],
   "source": [
    "\n"
   ]
  },
  {
   "cell_type": "code",
   "execution_count": 13,
   "id": "wrapped-motivation",
   "metadata": {},
   "outputs": [
    {
     "data": {
      "text/html": [
       "<div>\n",
       "<style scoped>\n",
       "    .dataframe tbody tr th:only-of-type {\n",
       "        vertical-align: middle;\n",
       "    }\n",
       "\n",
       "    .dataframe tbody tr th {\n",
       "        vertical-align: top;\n",
       "    }\n",
       "\n",
       "    .dataframe thead th {\n",
       "        text-align: right;\n",
       "    }\n",
       "</style>\n",
       "<table border=\"1\" class=\"dataframe\">\n",
       "  <thead>\n",
       "    <tr style=\"text-align: right;\">\n",
       "      <th></th>\n",
       "      <th>login_log_id</th>\n",
       "      <th>user_id</th>\n",
       "      <th>login_time</th>\n",
       "    </tr>\n",
       "  </thead>\n",
       "  <tbody>\n",
       "    <tr>\n",
       "      <th>0</th>\n",
       "      <td>1385328</td>\n",
       "      <td>99160</td>\n",
       "      <td>2021-07-01 00:00:33.0</td>\n",
       "    </tr>\n",
       "    <tr>\n",
       "      <th>1</th>\n",
       "      <td>1385329</td>\n",
       "      <td>83272</td>\n",
       "      <td>2021-07-01 00:00:38.0</td>\n",
       "    </tr>\n",
       "  </tbody>\n",
       "</table>\n",
       "</div>"
      ],
      "text/plain": [
       "   login_log_id  user_id             login_time\n",
       "0       1385328    99160  2021-07-01 00:00:33.0\n",
       "1       1385329    83272  2021-07-01 00:00:38.0"
      ]
     },
     "execution_count": 13,
     "metadata": {},
     "output_type": "execute_result"
    }
   ],
   "source": [
    "df3.head(2)"
   ]
  },
  {
   "cell_type": "code",
   "execution_count": 14,
   "id": "blocked-clear",
   "metadata": {},
   "outputs": [
    {
     "name": "stdout",
     "output_type": "stream",
     "text": [
      "<class 'pandas.core.frame.DataFrame'>\n",
      "RangeIndex: 666357 entries, 0 to 666356\n",
      "Data columns (total 3 columns):\n",
      " #   Column        Non-Null Count   Dtype \n",
      "---  ------        --------------   ----- \n",
      " 0   login_log_id  666357 non-null  int64 \n",
      " 1   user_id       666357 non-null  int64 \n",
      " 2   login_time    666357 non-null  object\n",
      "dtypes: int64(2), object(1)\n",
      "memory usage: 15.3+ MB\n"
     ]
    }
   ],
   "source": [
    "df3.info()"
   ]
  },
  {
   "cell_type": "code",
   "execution_count": 15,
   "id": "difficult-macedonia",
   "metadata": {},
   "outputs": [],
   "source": [
    "df3[\"login date\"] = pd.to_datetime(df3[\"login_time\"])"
   ]
  },
  {
   "cell_type": "code",
   "execution_count": 16,
   "id": "blessed-butter",
   "metadata": {},
   "outputs": [],
   "source": [
    "df3[\"login date\"] = df3[\"login date\"].dt.date"
   ]
  },
  {
   "cell_type": "code",
   "execution_count": 17,
   "id": "political-semester",
   "metadata": {},
   "outputs": [],
   "source": [
    "df3[\"login date\"] = pd.to_datetime(df3[\"login date\"])"
   ]
  },
  {
   "cell_type": "code",
   "execution_count": 18,
   "id": "emerging-shark",
   "metadata": {},
   "outputs": [],
   "source": [
    "df3[\"year\"] = df3[\"login date\"].dt.year"
   ]
  },
  {
   "cell_type": "code",
   "execution_count": 19,
   "id": "parallel-maldives",
   "metadata": {},
   "outputs": [],
   "source": [
    "df3[\"login time\"] = pd.to_datetime(df3[\"login_time\"])"
   ]
  },
  {
   "cell_type": "code",
   "execution_count": 20,
   "id": "cultural-arbor",
   "metadata": {},
   "outputs": [],
   "source": [
    "df3[\"login time\"] = df3[\"login time\"].dt.time"
   ]
  },
  {
   "cell_type": "code",
   "execution_count": 21,
   "id": "sharing-northern",
   "metadata": {},
   "outputs": [],
   "source": [
    "df3.drop(columns = [\"login_time\"],inplace=True)"
   ]
  },
  {
   "cell_type": "code",
   "execution_count": 22,
   "id": "defensive-prague",
   "metadata": {},
   "outputs": [
    {
     "data": {
      "text/html": [
       "<div>\n",
       "<style scoped>\n",
       "    .dataframe tbody tr th:only-of-type {\n",
       "        vertical-align: middle;\n",
       "    }\n",
       "\n",
       "    .dataframe tbody tr th {\n",
       "        vertical-align: top;\n",
       "    }\n",
       "\n",
       "    .dataframe thead th {\n",
       "        text-align: right;\n",
       "    }\n",
       "</style>\n",
       "<table border=\"1\" class=\"dataframe\">\n",
       "  <thead>\n",
       "    <tr style=\"text-align: right;\">\n",
       "      <th></th>\n",
       "      <th>login_log_id</th>\n",
       "      <th>user_id</th>\n",
       "      <th>login date</th>\n",
       "      <th>year</th>\n",
       "      <th>login time</th>\n",
       "    </tr>\n",
       "  </thead>\n",
       "  <tbody>\n",
       "    <tr>\n",
       "      <th>0</th>\n",
       "      <td>1385328</td>\n",
       "      <td>99160</td>\n",
       "      <td>2021-07-01</td>\n",
       "      <td>2021</td>\n",
       "      <td>00:00:33</td>\n",
       "    </tr>\n",
       "    <tr>\n",
       "      <th>1</th>\n",
       "      <td>1385329</td>\n",
       "      <td>83272</td>\n",
       "      <td>2021-07-01</td>\n",
       "      <td>2021</td>\n",
       "      <td>00:00:38</td>\n",
       "    </tr>\n",
       "  </tbody>\n",
       "</table>\n",
       "</div>"
      ],
      "text/plain": [
       "   login_log_id  user_id login date  year login time\n",
       "0       1385328    99160 2021-07-01  2021   00:00:33\n",
       "1       1385329    83272 2021-07-01  2021   00:00:38"
      ]
     },
     "execution_count": 22,
     "metadata": {},
     "output_type": "execute_result"
    }
   ],
   "source": [
    "df3.head(2)"
   ]
  },
  {
   "cell_type": "code",
   "execution_count": 23,
   "id": "scenic-cement",
   "metadata": {},
   "outputs": [
    {
     "data": {
      "text/html": [
       "<div>\n",
       "<style scoped>\n",
       "    .dataframe tbody tr th:only-of-type {\n",
       "        vertical-align: middle;\n",
       "    }\n",
       "\n",
       "    .dataframe tbody tr th {\n",
       "        vertical-align: top;\n",
       "    }\n",
       "\n",
       "    .dataframe thead th {\n",
       "        text-align: right;\n",
       "    }\n",
       "</style>\n",
       "<table border=\"1\" class=\"dataframe\">\n",
       "  <thead>\n",
       "    <tr style=\"text-align: right;\">\n",
       "      <th></th>\n",
       "      <th>order_id</th>\n",
       "      <th>fk_buyer_id</th>\n",
       "      <th>fk_depot_id</th>\n",
       "      <th>sales_order_status</th>\n",
       "      <th>creation date</th>\n",
       "      <th>year</th>\n",
       "      <th>creation time</th>\n",
       "    </tr>\n",
       "  </thead>\n",
       "  <tbody>\n",
       "    <tr>\n",
       "      <th>0</th>\n",
       "      <td>119874</td>\n",
       "      <td>82228</td>\n",
       "      <td>5</td>\n",
       "      <td>Rejected</td>\n",
       "      <td>2021-07-01</td>\n",
       "      <td>2021</td>\n",
       "      <td>2021-07-01 00:35:28</td>\n",
       "    </tr>\n",
       "    <tr>\n",
       "      <th>1</th>\n",
       "      <td>119877</td>\n",
       "      <td>40476</td>\n",
       "      <td>1</td>\n",
       "      <td>Rejected</td>\n",
       "      <td>2021-07-01</td>\n",
       "      <td>2021</td>\n",
       "      <td>2021-07-01 02:02:43</td>\n",
       "    </tr>\n",
       "  </tbody>\n",
       "</table>\n",
       "</div>"
      ],
      "text/plain": [
       "   order_id  fk_buyer_id  fk_depot_id sales_order_status creation date  year  \\\n",
       "0    119874        82228            5           Rejected    2021-07-01  2021   \n",
       "1    119877        40476            1           Rejected    2021-07-01  2021   \n",
       "\n",
       "        creation time  \n",
       "0 2021-07-01 00:35:28  \n",
       "1 2021-07-01 02:02:43  "
      ]
     },
     "execution_count": 23,
     "metadata": {},
     "output_type": "execute_result"
    }
   ],
   "source": [
    "df1.head(2)"
   ]
  },
  {
   "cell_type": "code",
   "execution_count": 24,
   "id": "monthly-sapphire",
   "metadata": {},
   "outputs": [],
   "source": [
    "merge_data=pd.merge(df2,df1,how=\"left\",left_on=\"fk_order_id\",right_on=\"order_id\")"
   ]
  },
  {
   "cell_type": "code",
   "execution_count": 25,
   "id": "individual-exemption",
   "metadata": {},
   "outputs": [
    {
     "data": {
      "text/html": [
       "<div>\n",
       "<style scoped>\n",
       "    .dataframe tbody tr th:only-of-type {\n",
       "        vertical-align: middle;\n",
       "    }\n",
       "\n",
       "    .dataframe tbody tr th {\n",
       "        vertical-align: top;\n",
       "    }\n",
       "\n",
       "    .dataframe thead th {\n",
       "        text-align: right;\n",
       "    }\n",
       "</style>\n",
       "<table border=\"1\" class=\"dataframe\">\n",
       "  <thead>\n",
       "    <tr style=\"text-align: right;\">\n",
       "      <th></th>\n",
       "      <th>order_item_id</th>\n",
       "      <th>fk_product_id</th>\n",
       "      <th>fk_order_id</th>\n",
       "      <th>ordered_quantity</th>\n",
       "      <th>order_quantity_accepted</th>\n",
       "      <th>rate</th>\n",
       "      <th>order_id</th>\n",
       "      <th>fk_buyer_id</th>\n",
       "      <th>fk_depot_id</th>\n",
       "      <th>sales_order_status</th>\n",
       "      <th>creation date</th>\n",
       "      <th>year</th>\n",
       "      <th>creation time</th>\n",
       "    </tr>\n",
       "  </thead>\n",
       "  <tbody>\n",
       "    <tr>\n",
       "      <th>0</th>\n",
       "      <td>62609</td>\n",
       "      <td>7818</td>\n",
       "      <td>119874</td>\n",
       "      <td>1</td>\n",
       "      <td>0</td>\n",
       "      <td>4993.00</td>\n",
       "      <td>119874</td>\n",
       "      <td>82228</td>\n",
       "      <td>5</td>\n",
       "      <td>Rejected</td>\n",
       "      <td>2021-07-01</td>\n",
       "      <td>2021</td>\n",
       "      <td>2021-07-01 00:35:28</td>\n",
       "    </tr>\n",
       "    <tr>\n",
       "      <th>1</th>\n",
       "      <td>62610</td>\n",
       "      <td>7607</td>\n",
       "      <td>119877</td>\n",
       "      <td>1</td>\n",
       "      <td>0</td>\n",
       "      <td>6203.40</td>\n",
       "      <td>119877</td>\n",
       "      <td>40476</td>\n",
       "      <td>1</td>\n",
       "      <td>Rejected</td>\n",
       "      <td>2021-07-01</td>\n",
       "      <td>2021</td>\n",
       "      <td>2021-07-01 02:02:43</td>\n",
       "    </tr>\n",
       "    <tr>\n",
       "      <th>2</th>\n",
       "      <td>62611</td>\n",
       "      <td>9916</td>\n",
       "      <td>119880</td>\n",
       "      <td>2</td>\n",
       "      <td>2</td>\n",
       "      <td>2904.41</td>\n",
       "      <td>119880</td>\n",
       "      <td>41728</td>\n",
       "      <td>8</td>\n",
       "      <td>Shipped</td>\n",
       "      <td>2021-07-01</td>\n",
       "      <td>2021</td>\n",
       "      <td>2021-07-01 02:42:12</td>\n",
       "    </tr>\n",
       "    <tr>\n",
       "      <th>3</th>\n",
       "      <td>62612</td>\n",
       "      <td>11118</td>\n",
       "      <td>119880</td>\n",
       "      <td>2</td>\n",
       "      <td>2</td>\n",
       "      <td>2205.00</td>\n",
       "      <td>119880</td>\n",
       "      <td>41728</td>\n",
       "      <td>8</td>\n",
       "      <td>Shipped</td>\n",
       "      <td>2021-07-01</td>\n",
       "      <td>2021</td>\n",
       "      <td>2021-07-01 02:42:12</td>\n",
       "    </tr>\n",
       "    <tr>\n",
       "      <th>4</th>\n",
       "      <td>62613</td>\n",
       "      <td>12702</td>\n",
       "      <td>119880</td>\n",
       "      <td>2</td>\n",
       "      <td>2</td>\n",
       "      <td>2200.85</td>\n",
       "      <td>119880</td>\n",
       "      <td>41728</td>\n",
       "      <td>8</td>\n",
       "      <td>Shipped</td>\n",
       "      <td>2021-07-01</td>\n",
       "      <td>2021</td>\n",
       "      <td>2021-07-01 02:42:12</td>\n",
       "    </tr>\n",
       "  </tbody>\n",
       "</table>\n",
       "</div>"
      ],
      "text/plain": [
       "   order_item_id  fk_product_id  fk_order_id  ordered_quantity  \\\n",
       "0          62609           7818       119874                 1   \n",
       "1          62610           7607       119877                 1   \n",
       "2          62611           9916       119880                 2   \n",
       "3          62612          11118       119880                 2   \n",
       "4          62613          12702       119880                 2   \n",
       "\n",
       "   order_quantity_accepted     rate  order_id  fk_buyer_id  fk_depot_id  \\\n",
       "0                        0  4993.00    119874        82228            5   \n",
       "1                        0  6203.40    119877        40476            1   \n",
       "2                        2  2904.41    119880        41728            8   \n",
       "3                        2  2205.00    119880        41728            8   \n",
       "4                        2  2200.85    119880        41728            8   \n",
       "\n",
       "  sales_order_status creation date  year       creation time  \n",
       "0           Rejected    2021-07-01  2021 2021-07-01 00:35:28  \n",
       "1           Rejected    2021-07-01  2021 2021-07-01 02:02:43  \n",
       "2            Shipped    2021-07-01  2021 2021-07-01 02:42:12  \n",
       "3            Shipped    2021-07-01  2021 2021-07-01 02:42:12  \n",
       "4            Shipped    2021-07-01  2021 2021-07-01 02:42:12  "
      ]
     },
     "execution_count": 25,
     "metadata": {},
     "output_type": "execute_result"
    }
   ],
   "source": [
    "merge_data.head()"
   ]
  },
  {
   "cell_type": "code",
   "execution_count": 26,
   "id": "olympic-resource",
   "metadata": {},
   "outputs": [],
   "source": [
    "df = merge_data.drop([\"fk_order_id\",\"fk_depot_id\"],axis=1)"
   ]
  },
  {
   "cell_type": "code",
   "execution_count": 27,
   "id": "military-patient",
   "metadata": {},
   "outputs": [],
   "source": [
    "total_order_2021 = len(df[(df[\"year\"]==2021)])"
   ]
  },
  {
   "cell_type": "code",
   "execution_count": 28,
   "id": "mature-accent",
   "metadata": {},
   "outputs": [],
   "source": [
    "total_order_2022 = len(df[(df[\"year\"]==2022)])"
   ]
  },
  {
   "cell_type": "code",
   "execution_count": 29,
   "id": "pursuant-crawford",
   "metadata": {},
   "outputs": [],
   "source": [
    "total_order_shiped_2021= len(df[(df['sales_order_status']== 'Shipped') & (df['year']== 2021)])"
   ]
  },
  {
   "cell_type": "code",
   "execution_count": 30,
   "id": "moral-bracket",
   "metadata": {},
   "outputs": [],
   "source": [
    "total_order_shiped_2022 = len(df[(df['sales_order_status']== 'Shipped') & (df['year']== 2022)])"
   ]
  },
  {
   "cell_type": "code",
   "execution_count": 31,
   "id": "approximate-guitar",
   "metadata": {},
   "outputs": [],
   "source": [
    "total_order_percentage_2021 = (total_order_shiped_2021/total_order_2021)*100"
   ]
  },
  {
   "cell_type": "code",
   "execution_count": 32,
   "id": "placed-marathon",
   "metadata": {},
   "outputs": [],
   "source": [
    "total_order_percentage_2022 = (total_order_shiped_2022/total_order_2022)*100"
   ]
  },
  {
   "cell_type": "code",
   "execution_count": 33,
   "id": "reverse-leadership",
   "metadata": {},
   "outputs": [
    {
     "data": {
      "text/plain": [
       "42.3163036841034"
      ]
     },
     "execution_count": 33,
     "metadata": {},
     "output_type": "execute_result"
    }
   ],
   "source": [
    "total_order_percentage_2021"
   ]
  },
  {
   "cell_type": "code",
   "execution_count": 34,
   "id": "discrete-turning",
   "metadata": {},
   "outputs": [
    {
     "data": {
      "text/plain": [
       "48.29300318889514"
      ]
     },
     "execution_count": 34,
     "metadata": {},
     "output_type": "execute_result"
    }
   ],
   "source": [
    "total_order_percentage_2022"
   ]
  },
  {
   "cell_type": "code",
   "execution_count": 35,
   "id": "divided-think",
   "metadata": {},
   "outputs": [],
   "source": [
    "splited_order_status = df.groupby([\"year\",\"sales_order_status\"]).agg({'year':['count']})"
   ]
  },
  {
   "cell_type": "code",
   "execution_count": 36,
   "id": "statutory-event",
   "metadata": {},
   "outputs": [
    {
     "data": {
      "text/html": [
       "<div>\n",
       "<style scoped>\n",
       "    .dataframe tbody tr th:only-of-type {\n",
       "        vertical-align: middle;\n",
       "    }\n",
       "\n",
       "    .dataframe tbody tr th {\n",
       "        vertical-align: top;\n",
       "    }\n",
       "\n",
       "    .dataframe thead tr th {\n",
       "        text-align: left;\n",
       "    }\n",
       "\n",
       "    .dataframe thead tr:last-of-type th {\n",
       "        text-align: right;\n",
       "    }\n",
       "</style>\n",
       "<table border=\"1\" class=\"dataframe\">\n",
       "  <thead>\n",
       "    <tr>\n",
       "      <th></th>\n",
       "      <th></th>\n",
       "      <th>year</th>\n",
       "    </tr>\n",
       "    <tr>\n",
       "      <th></th>\n",
       "      <th></th>\n",
       "      <th>count</th>\n",
       "    </tr>\n",
       "    <tr>\n",
       "      <th>year</th>\n",
       "      <th>sales_order_status</th>\n",
       "      <th></th>\n",
       "    </tr>\n",
       "  </thead>\n",
       "  <tbody>\n",
       "    <tr>\n",
       "      <th rowspan=\"3\" valign=\"top\">2021</th>\n",
       "      <th>Pending</th>\n",
       "      <td>45</td>\n",
       "    </tr>\n",
       "    <tr>\n",
       "      <th>Rejected</th>\n",
       "      <td>5623</td>\n",
       "    </tr>\n",
       "    <tr>\n",
       "      <th>Shipped</th>\n",
       "      <td>4158</td>\n",
       "    </tr>\n",
       "    <tr>\n",
       "      <th rowspan=\"4\" valign=\"top\">2022</th>\n",
       "      <th>Pending</th>\n",
       "      <td>41</td>\n",
       "    </tr>\n",
       "    <tr>\n",
       "      <th>Rejected</th>\n",
       "      <td>5471</td>\n",
       "    </tr>\n",
       "    <tr>\n",
       "      <th>Review</th>\n",
       "      <td>1</td>\n",
       "    </tr>\n",
       "    <tr>\n",
       "      <th>Shipped</th>\n",
       "      <td>5149</td>\n",
       "    </tr>\n",
       "  </tbody>\n",
       "</table>\n",
       "</div>"
      ],
      "text/plain": [
       "                         year\n",
       "                        count\n",
       "year sales_order_status      \n",
       "2021 Pending               45\n",
       "     Rejected            5623\n",
       "     Shipped             4158\n",
       "2022 Pending               41\n",
       "     Rejected            5471\n",
       "     Review                 1\n",
       "     Shipped             5149"
      ]
     },
     "execution_count": 36,
     "metadata": {},
     "output_type": "execute_result"
    }
   ],
   "source": [
    "splited_order_status"
   ]
  },
  {
   "cell_type": "code",
   "execution_count": 37,
   "id": "pleased-desktop",
   "metadata": {},
   "outputs": [
    {
     "data": {
      "text/html": [
       "<div>\n",
       "<style scoped>\n",
       "    .dataframe tbody tr th:only-of-type {\n",
       "        vertical-align: middle;\n",
       "    }\n",
       "\n",
       "    .dataframe tbody tr th {\n",
       "        vertical-align: top;\n",
       "    }\n",
       "\n",
       "    .dataframe thead th {\n",
       "        text-align: right;\n",
       "    }\n",
       "</style>\n",
       "<table border=\"1\" class=\"dataframe\">\n",
       "  <thead>\n",
       "    <tr style=\"text-align: right;\">\n",
       "      <th></th>\n",
       "      <th>login_log_id</th>\n",
       "      <th>user_id</th>\n",
       "      <th>login date</th>\n",
       "      <th>year</th>\n",
       "      <th>login time</th>\n",
       "    </tr>\n",
       "  </thead>\n",
       "  <tbody>\n",
       "    <tr>\n",
       "      <th>0</th>\n",
       "      <td>1385328</td>\n",
       "      <td>99160</td>\n",
       "      <td>2021-07-01</td>\n",
       "      <td>2021</td>\n",
       "      <td>00:00:33</td>\n",
       "    </tr>\n",
       "    <tr>\n",
       "      <th>1</th>\n",
       "      <td>1385329</td>\n",
       "      <td>83272</td>\n",
       "      <td>2021-07-01</td>\n",
       "      <td>2021</td>\n",
       "      <td>00:00:38</td>\n",
       "    </tr>\n",
       "    <tr>\n",
       "      <th>2</th>\n",
       "      <td>1385330</td>\n",
       "      <td>83272</td>\n",
       "      <td>2021-07-01</td>\n",
       "      <td>2021</td>\n",
       "      <td>00:00:42</td>\n",
       "    </tr>\n",
       "    <tr>\n",
       "      <th>3</th>\n",
       "      <td>1385331</td>\n",
       "      <td>96640</td>\n",
       "      <td>2021-07-01</td>\n",
       "      <td>2021</td>\n",
       "      <td>00:02:08</td>\n",
       "    </tr>\n",
       "    <tr>\n",
       "      <th>4</th>\n",
       "      <td>1385332</td>\n",
       "      <td>99160</td>\n",
       "      <td>2021-07-01</td>\n",
       "      <td>2021</td>\n",
       "      <td>00:02:38</td>\n",
       "    </tr>\n",
       "  </tbody>\n",
       "</table>\n",
       "</div>"
      ],
      "text/plain": [
       "   login_log_id  user_id login date  year login time\n",
       "0       1385328    99160 2021-07-01  2021   00:00:33\n",
       "1       1385329    83272 2021-07-01  2021   00:00:38\n",
       "2       1385330    83272 2021-07-01  2021   00:00:42\n",
       "3       1385331    96640 2021-07-01  2021   00:02:08\n",
       "4       1385332    99160 2021-07-01  2021   00:02:38"
      ]
     },
     "execution_count": 37,
     "metadata": {},
     "output_type": "execute_result"
    }
   ],
   "source": [
    "df3.head()"
   ]
  },
  {
   "cell_type": "code",
   "execution_count": null,
   "id": "wound-council",
   "metadata": {},
   "outputs": [],
   "source": []
  },
  {
   "cell_type": "code",
   "execution_count": 38,
   "id": "intended-witness",
   "metadata": {},
   "outputs": [],
   "source": [
    "user_base_2021 =len(df3[(df3[\"year\"]==2021)])"
   ]
  },
  {
   "cell_type": "code",
   "execution_count": 39,
   "id": "civilian-algorithm",
   "metadata": {},
   "outputs": [],
   "source": [
    "user_base_2022=len(df3[(df3[\"year\"]==2022)])"
   ]
  },
  {
   "cell_type": "code",
   "execution_count": 40,
   "id": "amber-teaching",
   "metadata": {},
   "outputs": [],
   "source": [
    "growth_user_base =user_base_2022 -user_base_2021 "
   ]
  },
  {
   "cell_type": "code",
   "execution_count": 41,
   "id": "sticky-opposition",
   "metadata": {},
   "outputs": [
    {
     "data": {
      "text/plain": [
       "123877"
      ]
     },
     "execution_count": 41,
     "metadata": {},
     "output_type": "execute_result"
    }
   ],
   "source": [
    "growth_user_base"
   ]
  },
  {
   "cell_type": "code",
   "execution_count": 42,
   "id": "valuable-mistake",
   "metadata": {},
   "outputs": [],
   "source": [
    "user_growth_percentage = (growth_user_base/user_base_2022)*100"
   ]
  },
  {
   "cell_type": "code",
   "execution_count": 43,
   "id": "greek-atlas",
   "metadata": {},
   "outputs": [
    {
     "data": {
      "text/plain": [
       "31.351979287147856"
      ]
     },
     "execution_count": 43,
     "metadata": {},
     "output_type": "execute_result"
    }
   ],
   "source": [
    "user_growth_percentage"
   ]
  },
  {
   "cell_type": "code",
   "execution_count": 44,
   "id": "dominant-token",
   "metadata": {},
   "outputs": [],
   "source": [
    "rejection_rate_2021 = ((len(df[(df['sales_order_status']== 'Rejected') & (df['year']== 2021)]))/total_order_2021)*100"
   ]
  },
  {
   "cell_type": "code",
   "execution_count": 45,
   "id": "blank-journey",
   "metadata": {},
   "outputs": [
    {
     "data": {
      "text/plain": [
       "57.225727661306735"
      ]
     },
     "execution_count": 45,
     "metadata": {},
     "output_type": "execute_result"
    }
   ],
   "source": [
    "rejection_rate_2021"
   ]
  },
  {
   "cell_type": "code",
   "execution_count": 46,
   "id": "actual-secretariat",
   "metadata": {},
   "outputs": [],
   "source": [
    "rejection_rate_2022 = ((len(df[(df['sales_order_status']== 'Rejected') & (df['year']== 2022)]))/total_order_2022)*100"
   ]
  },
  {
   "cell_type": "code",
   "execution_count": 47,
   "id": "active-invention",
   "metadata": {},
   "outputs": [
    {
     "data": {
      "text/plain": [
       "51.31307447008066"
      ]
     },
     "execution_count": 47,
     "metadata": {},
     "output_type": "execute_result"
    }
   ],
   "source": [
    "rejection_rate_2022"
   ]
  },
  {
   "cell_type": "code",
   "execution_count": 48,
   "id": "checked-whale",
   "metadata": {},
   "outputs": [],
   "source": [
    "pending_rate_2022 =((len(df[(df['sales_order_status']== 'Pending') & (df['year']== 2022)]))/total_order_2022)*100"
   ]
  },
  {
   "cell_type": "code",
   "execution_count": 49,
   "id": "subjective-spare",
   "metadata": {},
   "outputs": [
    {
     "data": {
      "text/plain": [
       "0.3845432376664791"
      ]
     },
     "execution_count": 49,
     "metadata": {},
     "output_type": "execute_result"
    }
   ],
   "source": [
    "pending_rate_2022"
   ]
  },
  {
   "cell_type": "code",
   "execution_count": 50,
   "id": "social-found",
   "metadata": {},
   "outputs": [],
   "source": [
    "pending_rate_2021 = ((len(df[(df['sales_order_status']== 'Pending') & (df['year']== 2022)]))/total_order_2021)*100"
   ]
  },
  {
   "cell_type": "code",
   "execution_count": 51,
   "id": "mineral-thanksgiving",
   "metadata": {},
   "outputs": [
    {
     "data": {
      "text/plain": [
       "0.4172603297374313"
      ]
     },
     "execution_count": 51,
     "metadata": {},
     "output_type": "execute_result"
    }
   ],
   "source": [
    "pending_rate_2021"
   ]
  },
  {
   "cell_type": "code",
   "execution_count": 52,
   "id": "contained-while",
   "metadata": {},
   "outputs": [
    {
     "data": {
      "image/png": "[encoded data removed]",
      "text/plain": [
       "<Figure size 504x576 with 1 Axes>"
      ]
     },
     "metadata": {
      "needs_background": "light"
     },
     "output_type": "display_data"
    }
   ],
   "source": [
    "df1[df1[\"sales_order_status\"]==\"Shipped\"].groupby([\"year\"]).agg({\"order_id\":\"count\"}).plot(kind='bar',figsize=(7,8))\n",
    "plt.title(\"Sales Order Shipped Year by Year\")\n",
    "plt.show()"
   ]
  },
  {
   "cell_type": "code",
   "execution_count": null,
   "id": "everyday-study",
   "metadata": {},
   "outputs": [],
   "source": []
  },
  {
   "cell_type": "code",
   "execution_count": 55,
   "id": "absent-maryland",
   "metadata": {},
   "outputs": [
    {
     "data": {
      "image/png": "[encoded data removed]",
      "text/plain": [
       "<Figure size 720x432 with 1 Axes>"
      ]
     },
     "metadata": {
      "needs_background": "light"
     },
     "output_type": "display_data"
    }
   ],
   "source": [
    "cross_data=pd.crosstab(columns=df['sales_order_status'],\n",
    "            index=df['year'],\n",
    "            values=df['ordered_quantity'],\n",
    "            aggfunc='sum')\n",
    "stacked = cross_data.stack().reset_index().rename(columns={0:'value'})\n",
    "\n",
    "plt.figure(figsize=(10,6))\n",
    "sns.barplot(x=stacked.year, y=stacked.value,hue=stacked.sales_order_status)\n",
    "plt.title(\"Sales Order Staus by Order_Quantity\")\n",
    "plt.show()"
   ]
  },
  {
   "cell_type": "markdown",
   "id": "wooden-pride",
   "metadata": {},
   "source": [
    "* over here we see Rejected amount is increases as well as Shipped amount."
   ]
  },
  {
   "cell_type": "code",
   "execution_count": 88,
   "id": "welcome-connection",
   "metadata": {},
   "outputs": [
    {
     "ename": "AttributeError",
     "evalue": "'DataFrame' object has no attribute 'order_quantity_accepted'",
     "output_type": "error",
     "traceback": [
      "\u001b[1;31m---------------------------------------------------------------------------\u001b[0m",
      "\u001b[1;31mAttributeError\u001b[0m                            Traceback (most recent call last)",
      "\u001b[1;32m<ipython-input-88-128fc93a3ceb>\u001b[0m in \u001b[0;36m<module>\u001b[1;34m\u001b[0m\n\u001b[0;32m      6\u001b[0m \u001b[1;33m\u001b[0m\u001b[0m\n\u001b[0;32m      7\u001b[0m \u001b[0mplt\u001b[0m\u001b[1;33m.\u001b[0m\u001b[0mfigure\u001b[0m\u001b[1;33m(\u001b[0m\u001b[0mfigsize\u001b[0m\u001b[1;33m=\u001b[0m\u001b[1;33m(\u001b[0m\u001b[1;36m10\u001b[0m\u001b[1;33m,\u001b[0m\u001b[1;36m6\u001b[0m\u001b[1;33m)\u001b[0m\u001b[1;33m)\u001b[0m\u001b[1;33m\u001b[0m\u001b[1;33m\u001b[0m\u001b[0m\n\u001b[1;32m----> 8\u001b[1;33m \u001b[0msns\u001b[0m\u001b[1;33m.\u001b[0m\u001b[0mbarplot\u001b[0m\u001b[1;33m(\u001b[0m\u001b[0mx\u001b[0m\u001b[1;33m=\u001b[0m\u001b[0mstacked\u001b[0m\u001b[1;33m.\u001b[0m\u001b[0myear\u001b[0m\u001b[1;33m,\u001b[0m \u001b[0my\u001b[0m\u001b[1;33m=\u001b[0m\u001b[0mstacked\u001b[0m\u001b[1;33m.\u001b[0m\u001b[0mvalue\u001b[0m\u001b[1;33m,\u001b[0m\u001b[0mhue\u001b[0m\u001b[1;33m=\u001b[0m\u001b[0mstacked\u001b[0m\u001b[1;33m.\u001b[0m\u001b[0morder_quantity_accepted\u001b[0m \u001b[1;33m)\u001b[0m\u001b[1;33m\u001b[0m\u001b[1;33m\u001b[0m\u001b[0m\n\u001b[0m\u001b[0;32m      9\u001b[0m \u001b[0mplt\u001b[0m\u001b[1;33m.\u001b[0m\u001b[0mtitle\u001b[0m\u001b[1;33m(\u001b[0m\u001b[1;34m\"Sales Order Staus by Order_Quantity\"\u001b[0m\u001b[1;33m)\u001b[0m\u001b[1;33m\u001b[0m\u001b[1;33m\u001b[0m\u001b[0m\n\u001b[0;32m     10\u001b[0m \u001b[0mplt\u001b[0m\u001b[1;33m.\u001b[0m\u001b[0mshow\u001b[0m\u001b[1;33m(\u001b[0m\u001b[1;33m)\u001b[0m\u001b[1;33m\u001b[0m\u001b[1;33m\u001b[0m\u001b[0m\n",
      "\u001b[1;32mc:\\users\\aastha\\miniconda3\\lib\\site-packages\\pandas\\core\\generic.py\u001b[0m in \u001b[0;36m__getattr__\u001b[1;34m(self, name)\u001b[0m\n\u001b[0;32m   5463\u001b[0m             \u001b[1;32mif\u001b[0m \u001b[0mself\u001b[0m\u001b[1;33m.\u001b[0m\u001b[0m_info_axis\u001b[0m\u001b[1;33m.\u001b[0m\u001b[0m_can_hold_identifiers_and_holds_name\u001b[0m\u001b[1;33m(\u001b[0m\u001b[0mname\u001b[0m\u001b[1;33m)\u001b[0m\u001b[1;33m:\u001b[0m\u001b[1;33m\u001b[0m\u001b[1;33m\u001b[0m\u001b[0m\n\u001b[0;32m   5464\u001b[0m                 \u001b[1;32mreturn\u001b[0m \u001b[0mself\u001b[0m\u001b[1;33m[\u001b[0m\u001b[0mname\u001b[0m\u001b[1;33m]\u001b[0m\u001b[1;33m\u001b[0m\u001b[1;33m\u001b[0m\u001b[0m\n\u001b[1;32m-> 5465\u001b[1;33m             \u001b[1;32mreturn\u001b[0m \u001b[0mobject\u001b[0m\u001b[1;33m.\u001b[0m\u001b[0m__getattribute__\u001b[0m\u001b[1;33m(\u001b[0m\u001b[0mself\u001b[0m\u001b[1;33m,\u001b[0m \u001b[0mname\u001b[0m\u001b[1;33m)\u001b[0m\u001b[1;33m\u001b[0m\u001b[1;33m\u001b[0m\u001b[0m\n\u001b[0m\u001b[0;32m   5466\u001b[0m \u001b[1;33m\u001b[0m\u001b[0m\n\u001b[0;32m   5467\u001b[0m     \u001b[1;32mdef\u001b[0m \u001b[0m__setattr__\u001b[0m\u001b[1;33m(\u001b[0m\u001b[0mself\u001b[0m\u001b[1;33m,\u001b[0m \u001b[0mname\u001b[0m\u001b[1;33m:\u001b[0m \u001b[0mstr\u001b[0m\u001b[1;33m,\u001b[0m \u001b[0mvalue\u001b[0m\u001b[1;33m)\u001b[0m \u001b[1;33m->\u001b[0m \u001b[1;32mNone\u001b[0m\u001b[1;33m:\u001b[0m\u001b[1;33m\u001b[0m\u001b[1;33m\u001b[0m\u001b[0m\n",
      "\u001b[1;31mAttributeError\u001b[0m: 'DataFrame' object has no attribute 'order_quantity_accepted'"
     ]
    },
    {
     "data": {
      "text/plain": [
       "<Figure size 720x432 with 0 Axes>"
      ]
     },
     "metadata": {},
     "output_type": "display_data"
    }
   ],
   "source": [
    "cross_data=pd.crosstab(columns=df['fk_product_id'],\n",
    "            index=df['year'],\n",
    "            values=df['ordered_quantity'],\n",
    "            aggfunc='sum')\n",
    "stacked = cross_data.stack().reset_index().rename(columns={0:'value'})\n",
    "\n",
    "plt.figure(figsize=(10,6))\n",
    "sns.barplot(x=stacked.year, y=stacked.value,hue=stacked.order_quantity_accepted\t)\n",
    "plt.title(\"Sales Order Staus by Order_Quantity\")\n",
    "plt.show()"
   ]
  },
  {
   "cell_type": "code",
   "execution_count": 62,
   "id": "touched-haiti",
   "metadata": {},
   "outputs": [
    {
     "data": {
      "image/png": "[encoded data removed]",
      "text/plain": [
       "<Figure size 1080x432 with 2 Axes>"
      ]
     },
     "metadata": {
      "needs_background": "light"
     },
     "output_type": "display_data"
    }
   ],
   "source": [
    "cross_data=pd.crosstab(columns=df['fk_product_id'],\n",
    "            index=df['year'],\n",
    "            values=df['ordered_quantity'],\n",
    "            aggfunc='sum')\n",
    "stacked = cross_data.stack().reset_index().rename(columns={0:'value'})\n",
    "\n",
    "plt.figure(figsize=(15,6))\n",
    "#plot 1:\n",
    "product_2021 = stacked[stacked[\"year\"]==2021].sort_values(\"value\",ascending=False)[:10]\n",
    "plt.subplot(1, 2, 1)\n",
    "sns.barplot(x=product_2021.fk_product_id,y=product_2021.value)\n",
    "plt.title(\"Top 10 product in 2021 in-terms of Order_quantity\")\n",
    "\n",
    "#plot 2:\n",
    "product_2022 = stacked[stacked[\"year\"]==2022].sort_values(\"value\",ascending=False)[:10]\n",
    "plt.subplot(1, 2, 2)\n",
    "sns.barplot(x=product_2022.fk_product_id,y=product_2022.value)\n",
    "plt.title(\"Top 10 product in 2022 in-terms of Order_quantity\")\n",
    "\n",
    "plt.show()"
   ]
  },
  {
   "cell_type": "code",
   "execution_count": 63,
   "id": "synthetic-working",
   "metadata": {},
   "outputs": [
    {
     "data": {
      "image/png": "[encoded data removed]",
      "text/plain": [
       "<Figure size 1080x432 with 2 Axes>"
      ]
     },
     "metadata": {
      "needs_background": "light"
     },
     "output_type": "display_data"
    }
   ],
   "source": [
    "cross_data=pd.crosstab(columns=df['fk_product_id'],\n",
    "            index=df['year'],\n",
    "            values=df['rate'],\n",
    "            aggfunc='sum')\n",
    "stacked = cross_data.stack().reset_index().rename(columns={0:'value'})\n",
    "\n",
    "plt.figure(figsize=(15,6))\n",
    "#plot 1:\n",
    "product_2021 = stacked[stacked[\"year\"]==2021].sort_values(\"value\",ascending=False)[:10]\n",
    "plt.subplot(1, 2, 1)\n",
    "sns.barplot(x=product_2021.fk_product_id,y=product_2021.value)\n",
    "plt.title(\"Top 10 product in 2021 in-terms of rate\")\n",
    "\n",
    "#plot 2:\n",
    "product_2022 = stacked[stacked[\"year\"]==2022].sort_values(\"value\",ascending=False)[:10]\n",
    "plt.subplot(1, 2, 2)\n",
    "sns.barplot(x=product_2022.fk_product_id,y=product_2022.value)\n",
    "plt.title(\"Top 10 product in 2022 in-terms of rate\")\n",
    "\n",
    "plt.show()"
   ]
  },
  {
   "cell_type": "code",
   "execution_count": 65,
   "id": "further-smoke",
   "metadata": {},
   "outputs": [],
   "source": [
    "data_2021=df[df[\"year\"]==2021]"
   ]
  },
  {
   "cell_type": "code",
   "execution_count": 66,
   "id": "suspended-shuttle",
   "metadata": {},
   "outputs": [
    {
     "data": {
      "image/png": "[encoded data removed]",
      "text/plain": [
       "<Figure size 720x432 with 1 Axes>"
      ]
     },
     "metadata": {
      "needs_background": "light"
     },
     "output_type": "display_data"
    }
   ],
   "source": [
    "plt.figure(figsize=(10,6))\n",
    "sns.barplot(x=data_2021.sales_order_status,y=data_2021.rate)\n",
    "plt.show()"
   ]
  },
  {
   "cell_type": "code",
   "execution_count": 68,
   "id": "reflected-cream",
   "metadata": {},
   "outputs": [
    {
     "data": {
      "image/png": "[encoded data removed]",
      "text/plain": [
       "<Figure size 720x432 with 1 Axes>"
      ]
     },
     "metadata": {
      "needs_background": "light"
     },
     "output_type": "display_data"
    }
   ],
   "source": [
    "plt.figure(figsize=(10,6))\n",
    "sns.countplot(df[df[\"year\"]==2021][\"sales_order_status\"])\n",
    "plt.show()"
   ]
  },
  {
   "cell_type": "markdown",
   "id": "adult-badge",
   "metadata": {},
   "source": [
    "sns.countplot(df3[\"year\"])\n",
    "plt.show()"
   ]
  },
  {
   "cell_type": "markdown",
   "id": "negative-bubble",
   "metadata": {},
   "source": [
    "# *It's look like the user increase in 2022"
   ]
  },
  {
   "cell_type": "code",
   "execution_count": null,
   "id": "attached-composite",
   "metadata": {},
   "outputs": [],
   "source": []
  }
 ],
 "metadata": {
  "kernelspec": {
   "display_name": "Python 3",
   "language": "python",
   "name": "python3"
  },
  "language_info": {
   "codemirror_mode": {
    "name": "ipython",
    "version": 3
   },
   "file_extension": ".py",
   "mimetype": "text/x-python",
   "name": "python",
   "nbconvert_exporter": "python",
   "pygments_lexer": "ipython3",
   "version": "3.8.5"
  }
 },
 "nbformat": 4,
 "nbformat_minor": 5
}
